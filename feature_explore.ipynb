{
 "cells": [
  {
   "cell_type": "code",
   "execution_count": 92,
   "id": "e821c1c6-906c-415c-92bd-1008c36f0ce3",
   "metadata": {},
   "outputs": [],
   "source": [
    "import requests\n",
    "import json\n",
    "\n",
    "with open('./_auth/spotify.json') as f:\n",
    "    config = json.load(f)\n",
    "    \n",
    "AUTH_URL = 'https://accounts.spotify.com/api/token'\n",
    "BASE_URL = 'https://api.spotify.com/v1'\n",
    "auth_response = requests.post(AUTH_URL, {'grant_type': 'client_credentials',\n",
    "        'client_id': config['public_key'],\n",
    "        'client_secret': config['secret_key']})\n",
    "\n",
    "d = auth_response.json()\n",
    "token = d['access_token']\n",
    "\n",
    "headers = {'Authorization' : f'Bearer {token}'}\n",
    "\n",
    "song_uri = '2RPbEp0DyBVlkRvvYKopO7'\n",
    "response = requests.get(BASE_URL + '/audio-features/' + song_uri, headers=headers).json()"
   ]
  },
  {
   "cell_type": "code",
   "execution_count": 11,
   "id": "b711ece7-b2be-47a8-8ad4-b5ed35d0d93a",
   "metadata": {},
   "outputs": [
    {
     "data": {
      "text/plain": [
       "{'danceability': 0.706,\n",
       " 'energy': 0.688,\n",
       " 'key': 1,\n",
       " 'loudness': -6.357,\n",
       " 'mode': 1,\n",
       " 'speechiness': 0.269,\n",
       " 'acousticness': 0.151,\n",
       " 'instrumentalness': 0,\n",
       " 'liveness': 0.466,\n",
       " 'valence': 0.313,\n",
       " 'tempo': 125.966,\n",
       " 'type': 'audio_features',\n",
       " 'id': '2RPbEp0DyBVlkRvvYKopO7',\n",
       " 'uri': 'spotify:track:2RPbEp0DyBVlkRvvYKopO7',\n",
       " 'track_href': 'https://api.spotify.com/v1/tracks/2RPbEp0DyBVlkRvvYKopO7',\n",
       " 'analysis_url': 'https://api.spotify.com/v1/audio-analysis/2RPbEp0DyBVlkRvvYKopO7',\n",
       " 'duration_ms': 330783,\n",
       " 'time_signature': 4}"
      ]
     },
     "execution_count": 11,
     "metadata": {},
     "output_type": "execute_result"
    }
   ],
   "source": [
    "response"
   ]
  },
  {
   "cell_type": "code",
   "execution_count": 13,
   "id": "47256039-59eb-4d90-868d-268f8da495d7",
   "metadata": {},
   "outputs": [],
   "source": [
    "audio_analyzer = requests.get('https://api.spotify.com/v1/audio-analysis/2RPbEp0DyBVlkRvvYKopO7', headers=headers).json()"
   ]
  },
  {
   "cell_type": "code",
   "execution_count": 14,
   "id": "af61c0df-e527-4548-be6c-cb5cd5e333ea",
   "metadata": {},
   "outputs": [
    {
     "data": {
      "text/plain": [
       "dict_keys(['meta', 'track', 'bars', 'beats', 'sections', 'segments', 'tatums'])"
      ]
     },
     "execution_count": 14,
     "metadata": {},
     "output_type": "execute_result"
    }
   ],
   "source": [
    "audio_analyzer.keys()"
   ]
  },
  {
   "cell_type": "code",
   "execution_count": 25,
   "id": "23ce0a51-98d5-42f6-9de3-3b748af71ca7",
   "metadata": {},
   "outputs": [
    {
     "data": {
      "text/plain": [
       "(array([  2.,   3.,   6.,   6.,  40.,  98., 205., 164.,  77.,  37.,  12.,\n",
       "         13.,   4.,   9.,   0.,   2.,   7.,   2.,   3.,   3.]),\n",
       " array([0.45746 , 0.460151, 0.462842, 0.465533, 0.468224, 0.470915,\n",
       "        0.473606, 0.476297, 0.478988, 0.481679, 0.48437 , 0.487061,\n",
       "        0.489752, 0.492443, 0.495134, 0.497825, 0.500516, 0.503207,\n",
       "        0.505898, 0.508589, 0.51128 ]),\n",
       " <BarContainer object of 20 artists>)"
      ]
     },
     "execution_count": 25,
     "metadata": {},
     "output_type": "execute_result"
    },
    {
     "data": {
      "image/png": "[encoded data removed]",
      "text/plain": [
       "<Figure size 432x288 with 1 Axes>"
      ]
     },
     "metadata": {
      "needs_background": "light"
     },
     "output_type": "display_data"
    }
   ],
   "source": [
    "import matplotlib.pyplot as plt\n",
    "durs = []\n",
    "for b in audio_analyzer['beats']:\n",
    "    durs.append(b['duration'])\n",
    "    \n",
    "plt.hist(durs, bins=20)\n"
   ]
  },
  {
   "cell_type": "code",
   "execution_count": 200,
   "id": "d15c0830-84cf-4703-af3a-cfb299569bab",
   "metadata": {},
   "outputs": [
    {
     "name": "stdout",
     "output_type": "stream",
     "text": [
      "{\n",
      "    \"meta\": {\n",
      "        \"analyzer_version\": string,\n",
      "        \"platform\": string,\n",
      "        \"detailed_status\": string,\n",
      "        \"status_code\": 42,\n",
      "        \"timestamp\": 42,\n",
      "        \"analysis_time\": 3.1415,\n",
      "        \"input_process\": string\n",
      "    },\n",
      "    \"track\": {\n",
      "        \"num_samples\": 42,\n",
      "        \"duration\": 3.1415,\n",
      "        \"sample_md5\": string,\n",
      "        \"offset_seconds\": 42,\n",
      "        \"window_seconds\": 42,\n",
      "        \"analysis_sample_rate\": 42,\n",
      "        \"analysis_channels\": 42,\n",
      "        \"end_of_fade_in\": 3.1415,\n",
      "        \"start_of_fade_out\": 3.1415,\n",
      "        \"loudness\": 3.1415,\n",
      "        \"tempo\": 3.1415,\n",
      "        \"tempo_confidence\": 3.1415,\n",
      "        \"time_signature\": 42,\n",
      "        \"time_signature_confidence\": 3.1415,\n",
      "        \"key\": 42,\n",
      "        \"key_confidence\": 3.1415,\n",
      "        \"mode\": 42,\n",
      "        \"mode_confidence\": 3.1415,\n",
      "        \"codestring\": string,\n",
      "        \"code_version\": 3.1415,\n",
      "        \"echoprintstring\": string,\n",
      "        \"echoprint_version\": 3.1415,\n",
      "        \"synchstring\": string,\n",
      "        \"synch_version\": 3.1415,\n",
      "        \"rhythmstring\": string,\n",
      "        \"rhythm_version\": 3.1415\n",
      "    },\n",
      "    \"bars\": [...],\n",
      "    \"beats\": [...],\n",
      "    \"sections\": [...],\n",
      "    \"segments\": [...],\n",
      "    \"tatums\": [...]\n",
      "}\n"
     ]
    }
   ],
   "source": []
  }
 ],
 "metadata": {
  "kernelspec": {
   "display_name": "Python 3 (ipykernel)",
   "language": "python",
   "name": "python3"
  },
  "language_info": {
   "codemirror_mode": {
    "name": "ipython",
    "version": 3
   },
   "file_extension": ".py",
   "mimetype": "text/x-python",
   "name": "python",
   "nbconvert_exporter": "python",
   "pygments_lexer": "ipython3",
   "version": "3.9.7"
  }
 },
 "nbformat": 4,
 "nbformat_minor": 5
}
